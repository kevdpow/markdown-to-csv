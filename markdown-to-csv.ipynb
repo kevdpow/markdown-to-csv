{
 "cells": [
  {
   "attachments": {},
   "cell_type": "markdown",
   "metadata": {},
   "source": [
    "# Import and set variables\n",
    "\n",
    "1. Import all of the modules we need\n",
    "2. Set a few variables for later"
   ]
  },
  {
   "cell_type": "code",
   "execution_count": 330,
   "metadata": {},
   "outputs": [],
   "source": [
    "import os\n",
    "import csv\n",
    "from marko import parse, render\n",
    "from bs4 import BeautifulSoup\n",
    "import numpy as np\n",
    "from datetime import datetime\n",
    "\n",
    "md_folder = \"markdown_files\"\n",
    "timestamp = datetime.strftime(datetime.now(), \"%Y%m%d-%H%M%S\")\n",
    "report_name = f\"{md_folder}-{timestamp}.csv\""
   ]
  },
  {
   "attachments": {},
   "cell_type": "markdown",
   "metadata": {},
   "source": [
    "## Normalize Text Function"
   ]
  },
  {
   "cell_type": "code",
   "execution_count": 331,
   "metadata": {},
   "outputs": [],
   "source": [
    "## Takes in an HTML formatted string and returns inner text\n",
    "## Also strips newline characters and strips extra whitespace\n",
    "def normalize_text(html_string):\n",
    "    soup = BeautifulSoup(html_string)\n",
    "    text = soup.get_text()\n",
    "    text = text.strip().replace(\"\\n\", \", \")\n",
    "    return text\n"
   ]
  },
  {
   "attachments": {},
   "cell_type": "markdown",
   "metadata": {},
   "source": [
    "## Create File Row\n",
    "\n",
    "1. Open markdown file and parse markdown elements with the `marko` module.\n",
    "2. Find indices of all the headings in the markdown elements array.\n",
    "3. Group headings and their following content into arrays based those indicies.\n",
    "4. Iterate through this array of arrays to create a dictionary that will be understood by `csv.DictWriter()`.\n",
    "5. Return the row and a list of column names."
   ]
  },
  {
   "cell_type": "code",
   "execution_count": 332,
   "metadata": {},
   "outputs": [],
   "source": [
    "\n",
    "def create_file_row(filepath):\n",
    "    with open(filepath, mode='r', encoding='utf-8') as txtfile:\n",
    "        lines = txtfile.read()\n",
    "        p = parse(lines)\n",
    "        \n",
    "    indices = []\n",
    "    for idx, child in enumerate(p.children):\n",
    "        if child.get_type() == \"Heading\":\n",
    "            indices.append(idx)\n",
    "\n",
    "    splits = []\n",
    "    for split in np.split(p.children, indices):\n",
    "        if len(split):\n",
    "            splits.append(split)\n",
    "\n",
    "    row = {\"filename\": [os.path.basename(filepath)]}\n",
    "    \n",
    "    for elems in splits:\n",
    "        heading = \"\"\n",
    "        for e in elems:\n",
    "            ## Add heading value row as a key if it isn't there already\n",
    "            if e.get_type() == \"Heading\":\n",
    "                heading = normalize_text(render(e))\n",
    "                level = '#' * e.level\n",
    "                heading = f\"{level} {heading}\"\n",
    "                if heading not in row.keys():\n",
    "                    row[heading] = []\n",
    "            ## If the element type isn't blank, add value to row under heading\n",
    "            elif e.get_type() != \"BlankLine\":\n",
    "                s = normalize_text(render(e))\n",
    "                row[heading].append(s)\n",
    "    ## If there is more than one value for header in this row, join with semicolon\n",
    "    row = {k:\"; \".join(v) for k,v in row.items()}\n",
    "    return [row, list(row.keys())]\n",
    "\n"
   ]
  },
  {
   "attachments": {},
   "cell_type": "markdown",
   "metadata": {},
   "source": [
    "## Iterate through folder\n",
    "\n",
    "1. Create blank arrays for column names and rows.\n",
    "2. Iterate through folder defined at `md_folder`.\n",
    "3. If the file is `*.md`, pass the filepath to `create_file_row()`.\n",
    "4. Add resulting row to rows array.\n",
    "5. Add new columns to columns array."
   ]
  },
  {
   "cell_type": "code",
   "execution_count": 333,
   "metadata": {},
   "outputs": [],
   "source": [
    "\n",
    "columns = []\n",
    "rows = []\n",
    "\n",
    "for file in os.scandir(md_folder):\n",
    "    fn, ext = os.path.splitext(file.name)\n",
    "    if ext == \".md\":\n",
    "        row_arr = create_file_row(file.path)\n",
    "        rows.append(row_arr[0])\n",
    "        for column in row_arr[1]:\n",
    "            if column not in columns:\n",
    "                columns.append(column)"
   ]
  },
  {
   "attachments": {},
   "cell_type": "markdown",
   "metadata": {},
   "source": [
    "## Write rows to file"
   ]
  },
  {
   "cell_type": "code",
   "execution_count": 334,
   "metadata": {},
   "outputs": [
    {
     "name": "stdout",
     "output_type": "stream",
     "text": [
      "markdown_files-20230525-221252.csv\n"
     ]
    }
   ],
   "source": [
    "with open(report_name, mode='w', encoding='utf-8') as csvfile:\n",
    "    csvwriter = csv.DictWriter(csvfile, fieldnames=columns)\n",
    "    csvwriter.writeheader()\n",
    "    csvwriter.writerows(rows)\n",
    "    \n",
    "print(report_name)"
   ]
  }
 ],
 "metadata": {
  "kernelspec": {
   "display_name": "venv",
   "language": "python",
   "name": "python3"
  },
  "language_info": {
   "name": "python",
   "version": "3.10.5"
  },
  "orig_nbformat": 4
 },
 "nbformat": 4,
 "nbformat_minor": 2
}
